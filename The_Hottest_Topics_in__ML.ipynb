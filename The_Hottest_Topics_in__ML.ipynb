{
  "cells": [
    {
      "cell_type": "markdown",
      "metadata": {
        "id": "view-in-github",
        "colab_type": "text"
      },
      "source": [
        "<a href=\"https://colab.research.google.com/github/Raneem-Ali0/Find-Hottest-Topics-in-artical/blob/main/The_Hottest_Topics_in__ML.ipynb\" target=\"_parent\"><img src=\"https://colab.research.google.com/assets/colab-badge.svg\" alt=\"Open In Colab\"/></a>"
      ]
    },
    {
      "cell_type": "markdown",
      "source": [
        "## 1. Loading the NIPS papers\n",
        "<p>The NIPS conference (Neural Information Processing Systems) is one of the most prestigious yearly events in the machine learning community. At each NIPS conference, a large number of research papers are published. Over 50,000 PDF files were automatically downloaded and processed to obtain a dataset on various machine learning techniques. These NIPS papers are stored in <code>datasets/papers.csv</code>. The CSV file contains information on the different NIPS papers that were published from 1987 until 2017 (30 years!). These papers discuss a wide variety of topics in machine learning, from neural networks to optimization methods and many more.\n",
        "<img src=\"https://assets.datacamp.com/production/project_158/img/nips_logo.png\" alt=\"The logo of NIPS (Neural Information Processing Systems)\"></p>\n",
        "<p>First, we will explore the CSV file to determine what type of data we can use for the analysis and how it is structured. A research paper typically consists of a title, an abstract and the main text. Other data such as figures and tables were not extracted from the PDF files. Each paper discusses a novel technique or improvement. In this analysis, we will focus on analyzing these papers with natural language processing methods.</p>"
      ],
      "metadata": {
        "dc": {
          "key": "4"
        },
        "deletable": false,
        "tags": [
          "context"
        ],
        "editable": false,
        "run_control": {
          "frozen": true
        },
        "id": "E3Axpefk1X3G"
      }
    },
    {
      "execution_count": null,
      "outputs": [
        {
          "execution_count": 3,
          "data": {
            "text/plain": "     id  year                                              title event_type  \\\n0     1  1987  Self-Organization of Associative Database and ...        NaN   \n1    10  1987  A Mean Field Theory of Layer IV of Visual Cort...        NaN   \n2   100  1988  Storing Covariance by the Associative Long-Ter...        NaN   \n3  1000  1994  Bayesian Query Construction for Neural Network...        NaN   \n4  1001  1994  Neural Network Ensembles, Cross Validation, an...        NaN   \n\n                                            pdf_name          abstract  \\\n0  1-self-organization-of-associative-database-an...  Abstract Missing   \n1  10-a-mean-field-theory-of-layer-iv-of-visual-c...  Abstract Missing   \n2  100-storing-covariance-by-the-associative-long...  Abstract Missing   \n3  1000-bayesian-query-construction-for-neural-ne...  Abstract Missing   \n4  1001-neural-network-ensembles-cross-validation...  Abstract Missing   \n\n                                          paper_text  \n0  767\\n\\nSELF-ORGANIZATION OF ASSOCIATIVE DATABA...  \n1  683\\n\\nA MEAN FIELD THEORY OF LAYER IV OF VISU...  \n2  394\\n\\nSTORING COVARIANCE BY THE ASSOCIATIVE\\n...  \n3  Bayesian Query Construction for Neural\\nNetwor...  \n4  Neural Network Ensembles, Cross\\nValidation, a...  ",
            "text/html": "<div>\n<style scoped>\n    .dataframe tbody tr th:only-of-type {\n        vertical-align: middle;\n    }\n\n    .dataframe tbody tr th {\n        vertical-align: top;\n    }\n\n    .dataframe thead th {\n        text-align: right;\n    }\n</style>\n<table border=\"1\" class=\"dataframe\">\n  <thead>\n    <tr style=\"text-align: right;\">\n      <th></th>\n      <th>id</th>\n      <th>year</th>\n      <th>title</th>\n      <th>event_type</th>\n      <th>pdf_name</th>\n      <th>abstract</th>\n      <th>paper_text</th>\n    </tr>\n  </thead>\n  <tbody>\n    <tr>\n      <th>0</th>\n      <td>1</td>\n      <td>1987</td>\n      <td>Self-Organization of Associative Database and ...</td>\n      <td>NaN</td>\n      <td>1-self-organization-of-associative-database-an...</td>\n      <td>Abstract Missing</td>\n      <td>767\\n\\nSELF-ORGANIZATION OF ASSOCIATIVE DATABA...</td>\n    </tr>\n    <tr>\n      <th>1</th>\n      <td>10</td>\n      <td>1987</td>\n      <td>A Mean Field Theory of Layer IV of Visual Cort...</td>\n      <td>NaN</td>\n      <td>10-a-mean-field-theory-of-layer-iv-of-visual-c...</td>\n      <td>Abstract Missing</td>\n      <td>683\\n\\nA MEAN FIELD THEORY OF LAYER IV OF VISU...</td>\n    </tr>\n    <tr>\n      <th>2</th>\n      <td>100</td>\n      <td>1988</td>\n      <td>Storing Covariance by the Associative Long-Ter...</td>\n      <td>NaN</td>\n      <td>100-storing-covariance-by-the-associative-long...</td>\n      <td>Abstract Missing</td>\n      <td>394\\n\\nSTORING COVARIANCE BY THE ASSOCIATIVE\\n...</td>\n    </tr>\n    <tr>\n      <th>3</th>\n      <td>1000</td>\n      <td>1994</td>\n      <td>Bayesian Query Construction for Neural Network...</td>\n      <td>NaN</td>\n      <td>1000-bayesian-query-construction-for-neural-ne...</td>\n      <td>Abstract Missing</td>\n      <td>Bayesian Query Construction for Neural\\nNetwor...</td>\n    </tr>\n    <tr>\n      <th>4</th>\n      <td>1001</td>\n      <td>1994</td>\n      <td>Neural Network Ensembles, Cross Validation, an...</td>\n      <td>NaN</td>\n      <td>1001-neural-network-ensembles-cross-validation...</td>\n      <td>Abstract Missing</td>\n      <td>Neural Network Ensembles, Cross\\nValidation, a...</td>\n    </tr>\n  </tbody>\n</table>\n</div>"
          },
          "output_type": "execute_result",
          "metadata": {}
        }
      ],
      "cell_type": "code",
      "source": [
        "# Importing modules\n",
        "\n",
        "import pandas as pd \n",
        "\n",
        "papers = pd.read_csv('datasets/papers.csv')\n",
        "\n",
        "\n",
        "\n",
        "papers.head()"
      ],
      "metadata": {
        "dc": {
          "key": "4"
        },
        "trusted": true,
        "tags": [
          "sample_code"
        ],
        "id": "5QnipNgE1X3P",
        "outputId": "0ba939b4-bcd7-4b13-c157-f9bba53ff985"
      }
    },
    {
      "cell_type": "markdown",
      "source": [
        "## 2. Preparing the data for analysis\n",
        "<p>For the analysis of the papers, we are only interested in the text data associated with the paper as well as the year the paper was published in.</p>\n",
        "<p>We will analyze this text data using natural language processing.  Since the file contains some metadata such as id's and filenames, it is necessary to remove all the columns that do not contain useful text information.</p>"
      ],
      "metadata": {
        "dc": {
          "key": "11"
        },
        "deletable": false,
        "tags": [
          "context"
        ],
        "editable": false,
        "run_control": {
          "frozen": true
        },
        "id": "ThWNSDDj1X3R"
      }
    },
    {
      "execution_count": null,
      "outputs": [
        {
          "execution_count": 5,
          "data": {
            "text/plain": "   year                                              title          abstract  \\\n0  1987  Self-Organization of Associative Database and ...  Abstract Missing   \n1  1987  A Mean Field Theory of Layer IV of Visual Cort...  Abstract Missing   \n2  1988  Storing Covariance by the Associative Long-Ter...  Abstract Missing   \n3  1994  Bayesian Query Construction for Neural Network...  Abstract Missing   \n4  1994  Neural Network Ensembles, Cross Validation, an...  Abstract Missing   \n\n                                          paper_text  \n0  767\\n\\nSELF-ORGANIZATION OF ASSOCIATIVE DATABA...  \n1  683\\n\\nA MEAN FIELD THEORY OF LAYER IV OF VISU...  \n2  394\\n\\nSTORING COVARIANCE BY THE ASSOCIATIVE\\n...  \n3  Bayesian Query Construction for Neural\\nNetwor...  \n4  Neural Network Ensembles, Cross\\nValidation, a...  ",
            "text/html": "<div>\n<style scoped>\n    .dataframe tbody tr th:only-of-type {\n        vertical-align: middle;\n    }\n\n    .dataframe tbody tr th {\n        vertical-align: top;\n    }\n\n    .dataframe thead th {\n        text-align: right;\n    }\n</style>\n<table border=\"1\" class=\"dataframe\">\n  <thead>\n    <tr style=\"text-align: right;\">\n      <th></th>\n      <th>year</th>\n      <th>title</th>\n      <th>abstract</th>\n      <th>paper_text</th>\n    </tr>\n  </thead>\n  <tbody>\n    <tr>\n      <th>0</th>\n      <td>1987</td>\n      <td>Self-Organization of Associative Database and ...</td>\n      <td>Abstract Missing</td>\n      <td>767\\n\\nSELF-ORGANIZATION OF ASSOCIATIVE DATABA...</td>\n    </tr>\n    <tr>\n      <th>1</th>\n      <td>1987</td>\n      <td>A Mean Field Theory of Layer IV of Visual Cort...</td>\n      <td>Abstract Missing</td>\n      <td>683\\n\\nA MEAN FIELD THEORY OF LAYER IV OF VISU...</td>\n    </tr>\n    <tr>\n      <th>2</th>\n      <td>1988</td>\n      <td>Storing Covariance by the Associative Long-Ter...</td>\n      <td>Abstract Missing</td>\n      <td>394\\n\\nSTORING COVARIANCE BY THE ASSOCIATIVE\\n...</td>\n    </tr>\n    <tr>\n      <th>3</th>\n      <td>1994</td>\n      <td>Bayesian Query Construction for Neural Network...</td>\n      <td>Abstract Missing</td>\n      <td>Bayesian Query Construction for Neural\\nNetwor...</td>\n    </tr>\n    <tr>\n      <th>4</th>\n      <td>1994</td>\n      <td>Neural Network Ensembles, Cross Validation, an...</td>\n      <td>Abstract Missing</td>\n      <td>Neural Network Ensembles, Cross\\nValidation, a...</td>\n    </tr>\n  </tbody>\n</table>\n</div>"
          },
          "output_type": "execute_result",
          "metadata": {}
        }
      ],
      "cell_type": "code",
      "source": [
        "papers.drop(['id', 'event_type', 'pdf_name'], axis=1, inplace=True)\n",
        "\n",
        "papers.head()"
      ],
      "metadata": {
        "dc": {
          "key": "11"
        },
        "trusted": true,
        "tags": [
          "sample_code"
        ],
        "id": "GaYHWaw81X3S",
        "outputId": "a1dfa98c-d67a-422f-cd0b-efafdbe78c7a"
      }
    },
    {
      "cell_type": "markdown",
      "source": [
        "## 3. Plotting how machine learning has evolved over time\n",
        "<p>In order to understand how the machine learning field has recently exploded in popularity, we will begin by visualizing the number of publications per year. </p>\n",
        "<p>By looking at the number of published papers per year,  we can understand the extent of the machine learning 'revolution'! Typically, this significant increase in popularity is attributed to the large amounts of compute power, data and improvements in algorithms.</p>"
      ],
      "metadata": {
        "dc": {
          "key": "18"
        },
        "deletable": false,
        "tags": [
          "context"
        ],
        "editable": false,
        "run_control": {
          "frozen": true
        },
        "id": "sEfXLwU_1X3S"
      }
    },
    {
      "execution_count": null,
      "outputs": [
        {
          "execution_count": 7,
          "data": {
            "text/plain": "<matplotlib.axes._subplots.AxesSubplot at 0x7fa8c16ff208>"
          },
          "output_type": "execute_result",
          "metadata": {}
        },
        {
          "data": {
            "image/png": "[encoded data removed]",
            "text/plain": "<Figure size 432x288 with 1 Axes>"
          },
          "output_type": "display_data",
          "metadata": {}
        }
      ],
      "cell_type": "code",
      "source": [
        "# Group the papers by year\n",
        "import matplotlib.pyplot as plt\n",
        "groups = papers.groupby('year')\n",
        "\n",
        "# Determine the size of each group\n",
        "counts = groups.size()\n",
        "\n",
        "# Visualise the counts as a bar plot\n",
        "import matplotlib.pyplot\n",
        "%matplotlib inline\n",
        "counts.plot(kind='box')"
      ],
      "metadata": {
        "dc": {
          "key": "18"
        },
        "trusted": true,
        "tags": [
          "sample_code"
        ],
        "id": "aoJFJZy51X3T",
        "outputId": "5c6b3626-d2f9-456d-8eba-2ed1c8d9ec9a"
      }
    },
    {
      "cell_type": "markdown",
      "source": [
        "## 4. Preprocessing the text data\n",
        "<p>Let's now analyze the titles of the different papers to identify machine learning trends. First, we will perform some simple preprocessing on the titles in order to make them more amenable for analysis. We will use a regular expression to remove any punctuation in the title. Then we will perform lowercasing. We'll then print the titles of the first rows before and after applying the modification.</p>"
      ],
      "metadata": {
        "dc": {
          "key": "25"
        },
        "deletable": false,
        "tags": [
          "context"
        ],
        "editable": false,
        "run_control": {
          "frozen": true
        },
        "id": "ih8EhjVZ1X3U"
      }
    },
    {
      "execution_count": null,
      "outputs": [
        {
          "name": "stdout",
          "text": "0    Self-Organization of Associative Database and ...\n1    A Mean Field Theory of Layer IV of Visual Cort...\n2    Storing Covariance by the Associative Long-Ter...\n3    Bayesian Query Construction for Neural Network...\n4    Neural Network Ensembles, Cross Validation, an...\nName: title, dtype: object\n0       self-organization of associative database and ...\n1       a mean field theory of layer iv of visual cort...\n2       storing covariance by the associative long-ter...\n3       bayesian query construction for neural network...\n4       neural network ensembles cross validation and ...\n5       using a neural net to instantiate a deformable...\n6                plasticity-mediated competitive learning\n7       iceg morphology classification using an analog...\n8       real-time control of a tokamak plasma using ne...\n9       pulsestream synapses with non-volatile analogu...\n10                     learning to play the game of chess\n11           multidimensional scaling and data clustering\n12      an experimental comparison of recurrent neural...\n13      training multilayer perceptrons with the exten...\n14      interference in learning internal models of in...\n15                active learning with statistical models\n16      a rapid graph-based method for arbitrary trans...\n17      ocular dominance and patterned lateral connect...\n18      associative decorrelation dynamics: a theory o...\n19      a connectionist technique for accelerated text...\n20      connectionist speaker normalization with gener...\n21      a critical comparison of models for orientatio...\n22      generalization in reinforcement learning: safe...\n23      a mixture model system for medical and machine...\n24      an application of the principle of maximum inf...\n25      a computational model of prefrontal cortex fun...\n26           the gamma mlp for speech phoneme recognition\n27      a multiscale attentional framework for relaxat...\n28      correlated neuronal response: time scales and ...\n29                         onset-based sound segmentation\n                              ...                        \n7211    combining estimators using non-constant weight...\n7212    a model of the hippocampus combining self-orga...\n7213    catastrophic interference in human motor learning\n7214    model of a biological neuron as a temporal neu...\n7215                              dynamic cell structures\n7216                      on-line learning of dichotomies\n7217    new algorithms for 2d and 3d point matching: p...\n7218                          pattern playback in the 90s\n7219    learning in large linear perceptrons and why t...\n7220    spreading activation over distributed microfea...\n7221    interior point implementations of alternating ...\n7222    reinforcement learning with soft state aggrega...\n7223    coarse-to-fine image search using neural networks\n7224        on the computational utility of consciousness\n7225          a convolutional neural network hand tracker\n7226    efficient methods for dealing with missing dat...\n7227        grammar learning by a self-organizing network\n7228    recurrent networks: second order properties an...\n7229    comparing the prediction accuracy of artificia...\n7230     convergence properties of the k-means algorithms\n7231    analog implementation of shunting neural networks\n7232                          learning with product units\n7233    stochastic dynamics of three-state neural netw...\n7234    grouping components of three-dimensional movin...\n7235    visual speech recognition with stochastic netw...\n7236                  single transistor learning synapses\n7237    bias variance and the combination of least squ...\n7238            a real time clustering cmos neural engine\n7239    learning direction in global motion: two class...\n7240    correlation and interpolation networks for rea...\nName: title_processed, Length: 7241, dtype: object\n",
          "output_type": "stream"
        }
      ],
      "cell_type": "code",
      "source": [
        "import re\n",
        "print(papers['title'].head())\n",
        "\n",
        "# Remove punctuation\n",
        "papers['title_processed'] = papers['title'].map(lambda x: re.sub('[,\\.!?]', '', x))\n",
        "\n",
        "# Convert the titles to lowercase\n",
        "papers['title_processed'] = list(map(lambda x: x.lower(), papers['title_processed']))\n",
        "\n",
        "                                 \n",
        "                                 \n",
        "print(papers['title_processed'])"
      ],
      "metadata": {
        "dc": {
          "key": "25"
        },
        "trusted": true,
        "tags": [
          "sample_code"
        ],
        "id": "Sn-tTY3q1X3V",
        "outputId": "51c8f1d1-8c4d-44e3-feea-6e0fe2e6dfa4"
      }
    },
    {
      "cell_type": "markdown",
      "source": [
        "## 5.  A word cloud to visualize the preprocessed text data\n",
        "<p>In order to verify whether the preprocessing happened correctly, we can make a word cloud of the titles of the research papers. This will give us a visual representation of the most common words. Visualisation is key to understanding whether we are still on the right track! In addition, it allows us to verify whether we need additional preprocessing before further analyzing the text data.</p>\n",
        "<p>Python has a massive number of open libraries! Instead of trying to develop a method to create word clouds ourselves, we'll use Andreas Mueller's <a href=\"http://amueller.github.io/word_cloud/\">wordcloud library</a>.</p>"
      ],
      "metadata": {
        "dc": {
          "key": "32"
        },
        "deletable": false,
        "tags": [
          "context"
        ],
        "editable": false,
        "run_control": {
          "frozen": true
        },
        "id": "ko6D15611X3W"
      }
    },
    {
      "execution_count": null,
      "outputs": [],
      "cell_type": "code",
      "source": [
        "\n",
        "import wordcloud\n",
        "# Join the different processed titles together.\n",
        "long_string = ' '.join(papers['title_processed'])\n",
        "# Create a WordCloud object\n",
        "wordcloud = wordcloud.WordCloud()\n",
        "\n",
        "\n",
        "wordcloud.generate(long_string)\n",
        "wordcloud.to_image()"
      ],
      "metadata": {
        "dc": {
          "key": "32"
        },
        "trusted": true,
        "tags": [
          "sample_code"
        ],
        "id": "AnwuRIpz1X3Y"
      }
    },
    {
      "cell_type": "markdown",
      "source": [
        "## 6.  Prepare the text for LDA analysis\n",
        "<p>The main text analysis method that we will use is latent Dirichlet allocation (LDA). LDA is able to perform topic detection on large document sets, determining what the main 'topics' are in a large unlabeled set of texts. A 'topic' is a collection of words that tend to co-occur often. The hypothesis is that LDA might be able to clarify what the different topics in the research titles are. These topics can then be used as a starting point for further analysis.</p>\n",
        "<p>LDA does not work directly on text data. First, it is necessary to convert the documents into a simple vector representation. This representation will then be used by LDA to determine the topics. Each entry of a 'document vector' will correspond with the number of times a word occurred in the document. In conclusion, we will convert a list of titles into a list of vectors, all with length equal to the vocabulary. For example, <em>'Analyzing machine learning trends with neural networks.'</em> would be transformed into <code>[1, 0, 1, ..., 1, 0]</code>.</p>\n",
        "<p>We'll then plot the 10 most common words based on the outcome of this operation (the list of document vectors). As a check, these words should also occur in the word cloud.</p>"
      ],
      "metadata": {
        "dc": {
          "key": "39"
        },
        "deletable": false,
        "tags": [
          "context"
        ],
        "editable": false,
        "run_control": {
          "frozen": true
        },
        "id": "_QpSDijw1X3Z"
      }
    },
    {
      "execution_count": null,
      "outputs": [
        {
          "data": {
            "image/png": "[encoded data removed]",
            "text/plain": "<Figure size 432x288 with 1 Axes>"
          },
          "output_type": "display_data",
          "metadata": {}
        }
      ],
      "cell_type": "code",
      "source": [
        "from sklearn.feature_extraction.text import CountVectorizer\n",
        "import numpy as np\n",
        "\n",
        "# Helper function\n",
        "def plot_10_most_common_words(count_data, count_vectorizer):\n",
        "    import matplotlib.pyplot as plt\n",
        "    words = count_vectorizer.get_feature_names()\n",
        "    total_counts = np.zeros(len(words))\n",
        "    for t in count_data:\n",
        "        total_counts+=t.toarray()[0]\n",
        "    \n",
        "    count_dict = (zip(words, total_counts))\n",
        "    count_dict = sorted(count_dict, key=lambda x:x[1], reverse=True)[0:10]\n",
        "    words = [w[0] for w in count_dict]\n",
        "    counts = [w[1] for w in count_dict]\n",
        "    x_pos = np.arange(len(words)) \n",
        "\n",
        "    plt.bar(x_pos, counts,align='center')\n",
        "    plt.xticks(x_pos, words, rotation=90) \n",
        "    plt.xlabel('words')\n",
        "    plt.ylabel('counts')\n",
        "    plt.title('10 most common words')\n",
        "    plt.show()\n",
        "\n",
        "count_vectorizer = CountVectorizer(stop_words='english')\n",
        "\n",
        "# Fit and transform the processed titles\n",
        "count_data = count_vectorizer.fit_transform(papers['title_processed'])\n",
        "\n",
        "# Visualise the 10 most common words\n",
        "\n",
        "\n",
        "plot_10_most_common_words(count_data,count_vectorizer)"
      ],
      "metadata": {
        "dc": {
          "key": "39"
        },
        "trusted": true,
        "tags": [
          "sample_code"
        ],
        "id": "9L3AuTRX1X3Z",
        "outputId": "151bca10-27a0-4a81-ec4f-993b63854c80"
      }
    },
    {
      "cell_type": "markdown",
      "source": [
        "## 7. Analysing trends with LDA\n",
        "<p>Finally, the research titles will be analyzed using LDA. Note that in order to process a new set of documents (e.g. news articles), a similar set of steps will be required to preprocess the data. The flow that was constructed here can thus easily be exported for a new text dataset.</p>\n",
        "<p>The only parameter we will tweak is the number of topics in the LDA algorithm. Typically, one would calculate the 'perplexity' metric to determine which number of topics is best and iterate over different amounts of topics until the lowest 'perplexity' is found. For now, let's play around with a different number of topics. From there, we can distinguish what each topic is about ('neural networks', 'reinforcement learning', 'kernel methods', 'gaussian processes', etc.).</p>"
      ],
      "metadata": {
        "dc": {
          "key": "46"
        },
        "deletable": false,
        "tags": [
          "context"
        ],
        "editable": false,
        "run_control": {
          "frozen": true
        },
        "id": "8eNs9s401X3a"
      }
    },
    {
      "execution_count": null,
      "outputs": [],
      "cell_type": "code",
      "source": [
        "import warnings\n",
        "warnings.simplefilter(\"ignore\", DeprecationWarning)\n",
        "\n",
        "# Load the LDA model from sk-learn\n",
        "from sklearn.decomposition import LatentDirichletAllocation as LDA\n",
        " \n",
        "# Helper function\n",
        "def print_topics(model, count_vectorizer, n_top_words):\n",
        "    words = count_vectorizer.get_feature_names()\n",
        "    for topic_idx, topic in enumerate(model.components_):\n",
        "        print(\"\\nTopic #%d:\" % topic_idx)\n",
        "        print(\" \".join([words[i]\n",
        "                        for i in topic.argsort()[:-n_top_words - 1:-1]]))\n",
        "        \n",
        "\n",
        "number_topics = 10\n",
        "number_words = 10\n",
        "\n",
        "\n",
        "lda = LDA(n_components=number_topics)\n",
        "lda.fit(count_data)\n",
        "\n",
        "\n",
        "print(\"Topics found via LDA:\")\n",
        "print_topics(lda, count_vectorizer, number_words)"
      ],
      "metadata": {
        "dc": {
          "key": "46"
        },
        "trusted": true,
        "tags": [
          "sample_code"
        ],
        "id": "J0ODnz7M1X3a"
      }
    }
  ],
  "nbformat": 4,
  "nbformat_minor": 0,
  "metadata": {
    "kernelspec": {
      "name": "python3",
      "display_name": "Python 3",
      "language": "python"
    },
    "language_info": {
      "name": "python",
      "mimetype": "text/x-python",
      "nbconvert_exporter": "python",
      "file_extension": ".py",
      "codemirror_mode": {
        "name": "ipython",
        "version": 3
      },
      "pygments_lexer": "ipython3",
      "version": "3.5.2"
    },
    "colab": {
      "name": "The Hottest Topics_in _ML.ipynb",
      "provenance": [],
      "include_colab_link": true
    }
  }
}